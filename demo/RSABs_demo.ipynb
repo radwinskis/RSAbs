{
 "cells": [
  {
   "cell_type": "code",
   "execution_count": 11,
   "metadata": {},
   "outputs": [],
   "source": [
    "from RSAbs import *\n",
    "import os #Use whatever you would like to call your file"
   ]
  },
  {
   "cell_type": "code",
   "execution_count": 35,
   "metadata": {},
   "outputs": [
    {
     "name": "stdout",
     "output_type": "stream",
     "text": [
      "      Spectra 1  Spectra 2  Spectra 3  Spectra 4  Spectra 5\n",
      "0      1.000000   1.000000   1.000000   1.000000   1.000000\n",
      "1      0.975773   0.989696   0.952188   0.975604   0.973794\n",
      "2      0.916169   0.979391   0.914538   0.941819   0.956133\n",
      "3      0.900667   0.971362   0.896350   0.938824   0.941401\n",
      "4      0.885164   0.955769   0.865520   0.935830   0.897178\n",
      "...         ...        ...        ...        ...        ...\n",
      "2146   0.994068   0.996252   0.998757   0.994969   0.998406\n",
      "2147   0.993586   0.996415   1.000000   0.995003   0.998210\n",
      "2148   0.993529   0.993466   1.000000   0.995476   0.997957\n",
      "2149   0.994253   0.994404   1.000000   0.997780   0.999067\n",
      "2150   1.000000   1.000000   1.000000   1.000000   1.000000\n",
      "\n",
      "[2151 rows x 5 columns]\n",
      "      Wavelength\n",
      "0            350\n",
      "1            351\n",
      "2            352\n",
      "3            353\n",
      "4            354\n",
      "...          ...\n",
      "2146        2496\n",
      "2147        2497\n",
      "2148        2498\n",
      "2149        2499\n",
      "2150        2500\n",
      "\n",
      "[2151 rows x 1 columns]\n"
     ]
    }
   ],
   "source": [
    "### Section for calling the file -- adjust if you need too ###\n",
    "_location_ = os.path.realpath(os.path.join(os.getcwd(), os.path.dirname(\"demo\")))\n",
    "file = os.path.join(_location_, 'demo_spectra.csv')\n",
    "### open the csv or whatever datatype file with pandas\n",
    "### in the case of using this package you can call pandas as pd without needing to import\n",
    "main_df = pd.read_csv(file, delimiter = ',', low_memory = False)\n",
    "### Index the dataframe to isolate the spectra columns - this can be used as input for the functions\n",
    "### The file will need to be transposed using .T if the data are stored as rows rather than columns\n",
    "spectra_df = main_df.iloc[:, 1:]\n",
    "### Index the dataframe to isolate the wavelength column - this can be used as input for the functions\n",
    "wavelength_df = main_df.iloc[:, 0:1]\n",
    "### Print the data to see structure\n",
    "print(spectra_df)\n",
    "print(wavelength_df)"
   ]
  },
  {
   "cell_type": "code",
   "execution_count": 36,
   "metadata": {},
   "outputs": [],
   "source": [
    "absorptions_results = absorptions(spectra_df=spectra_df, wavelength_df=wavelength_df) #Create DataFrame of all absorptions wavelength locations\n",
    "\n",
    "seek_absorptions_results = seek_absorptions(absorptions_results, start_wavelength=800, end_wavelength=1000)#Create DataFrame of specific absorption wavelength locations, in this case between 800 and 900 nm\n",
    "\n",
    "absorptions_depth_results = absorptions_depth(spectra_df=spectra_df)  #Create DataFrame of all absorption depths\n",
    "\n",
    "seek_absorptions_depth_results = seek_absorptions_depth(spectra_df=spectra_df, wavelength_df=wavelength_df, start_wavelength=800, end_wavelength=1000) #Create DataFrame of specific absorption depths, in this case between 800 and 900 nm"
   ]
  },
  {
   "cell_type": "code",
   "execution_count": 37,
   "metadata": {},
   "outputs": [
    {
     "name": "stdout",
     "output_type": "stream",
     "text": [
      "    Spectra 1  Spectra 2  Spectra 3  Spectra 4  Spectra 5\n",
      "0         382      384.0      383.0      379.0      384.0\n",
      "1         435      434.0      434.0      434.0      435.0\n",
      "2         621      936.0      920.0      631.0      940.0\n",
      "3         666     1415.0     1414.0      935.0     1415.0\n",
      "4         944     1467.0     1467.0     1334.0     1467.0\n",
      "5        1470     1804.0     1804.0     1430.0     1804.0\n",
      "6        1765     1854.0     1853.0     1473.0     1854.0\n",
      "7        1802     1930.0     1931.0     1765.0     1937.0\n",
      "8        1854     2212.0     2211.0     1930.0     2212.0\n",
      "9        1935     2267.0     2267.0     2177.0     2267.0\n",
      "10       2182     2388.0     2384.0     2208.0     2387.0\n",
      "11       2210     2458.0     2456.0     2264.0     2460.0\n",
      "12       2267        NaN        NaN     2324.0        NaN\n",
      "13       2400        NaN        NaN     2438.0        NaN\n",
      "14       2455        NaN        NaN        NaN        NaN\n"
     ]
    }
   ],
   "source": [
    "print(absorptions_results)"
   ]
  },
  {
   "cell_type": "code",
   "execution_count": 38,
   "metadata": {},
   "outputs": [
    {
     "name": "stdout",
     "output_type": "stream",
     "text": [
      "   Spectra 1  Spectra 2  Spectra 3  Spectra 4  Spectra 5\n",
      "0      944.0      936.0      920.0      935.0      940.0\n"
     ]
    }
   ],
   "source": [
    "print(seek_absorptions_results)"
   ]
  },
  {
   "cell_type": "code",
   "execution_count": 39,
   "metadata": {},
   "outputs": [
    {
     "name": "stdout",
     "output_type": "stream",
     "text": [
      "    Spectra 1  Spectra 2  Spectra 3  Spectra 4  Spectra 5\n",
      "0    0.417564   0.455767   0.463062   0.337351   0.467325\n",
      "1    0.105968   0.117736   0.077022   0.092891   0.111149\n",
      "2    0.001259   0.255847   0.197308   0.001224   0.236165\n",
      "3    0.001494   0.012465   0.092399   0.108506   0.015694\n",
      "4    0.172838   0.077587   0.022838   0.002182   0.074491\n",
      "5    0.088340   0.012866   0.008846   0.004006   0.012171\n",
      "6    0.021673   0.051189   0.023738   0.095700   0.041488\n",
      "7    0.001234   0.127349   0.160692   0.035386   0.142986\n",
      "8    0.016996   0.194724   0.191051   0.190073   0.183658\n",
      "9    0.162110   0.063734   0.025584   0.127044   0.054225\n",
      "10   0.003060   0.020480   0.022847   0.004300   0.016954\n",
      "11   0.141357   0.031822   0.029698   0.007792   0.026690\n",
      "12   0.034780        NaN        NaN   0.017421        NaN\n",
      "13   0.004581        NaN        NaN   0.053166        NaN\n",
      "14   0.039951        NaN        NaN        NaN        NaN\n"
     ]
    }
   ],
   "source": [
    "print(absorptions_depth_results)"
   ]
  },
  {
   "cell_type": "code",
   "execution_count": 40,
   "metadata": {},
   "outputs": [
    {
     "name": "stdout",
     "output_type": "stream",
     "text": [
      "   Spectra 1  Spectra 2  Spectra 3  Spectra 4  Spectra 5\n",
      "0   0.172838   0.255847   0.197308   0.108506   0.236165\n"
     ]
    }
   ],
   "source": [
    "print(seek_absorptions_depth_results)"
   ]
  }
 ],
 "metadata": {
  "interpreter": {
   "hash": "01caf2a6838bc37167c6e92486b45521722d4dcb94a1d8ac6967a847afbf21a6"
  },
  "kernelspec": {
   "display_name": "Python 3.8.10 64-bit ('gee': conda)",
   "language": "python",
   "name": "python3"
  },
  "language_info": {
   "codemirror_mode": {
    "name": "ipython",
    "version": 3
   },
   "file_extension": ".py",
   "mimetype": "text/x-python",
   "name": "python",
   "nbconvert_exporter": "python",
   "pygments_lexer": "ipython3",
   "version": "3.9.9"
  },
  "orig_nbformat": 4
 },
 "nbformat": 4,
 "nbformat_minor": 2
}
